{
 "cells": [
  {
   "cell_type": "markdown",
   "metadata": {},
   "source": [
    "# Events Suggesting"
   ]
  },
  {
   "cell_type": "markdown",
   "metadata": {},
   "source": [
    "## Setup"
   ]
  },
  {
   "cell_type": "code",
   "execution_count": null,
   "metadata": {},
   "outputs": [],
   "source": []
  },
  {
   "cell_type": "markdown",
   "metadata": {},
   "source": [
    "start_date = '2024-03-24'\n",
    "end_date = '2024-03-24'\n",
    "\n",
    "url = f'http://events.umich.edu/list/json?filter=all&range={start_date}to{end_date}&v=2'\n",
    "\n",
    "with urllib.request.urlopen(url) as response:\n",
    "    data = response.read()\n",
    "\n",
    "events_json = json.loads(data)\n",
    "\n",
    "event_descriptions = [event[\"description\"] for event in events_json]\n",
    "\n",
    "context = {\n",
    "    \"location_name\": itemgetter(\"location_name\"),\n",
    "    \"room\": itemgetter(\"room\"),\n",
    "    \"event_type\": itemgetter(\"event_type\"),\n",
    "    \"event_title\": itemgetter(\"event_title\")\n",
    "}\n",
    "\n",
    "vectorstore = FAISS.from_texts(event_descriptions, embedding=OpenAIEmbeddings(api_key=os.getenv(\"OPENAI_API_KEY\")))\n",
    "\n",
    "\n",
    "retriever = vectorstore.as_retriever(k=5)\n",
    "\n",
    "template = \"\"\"Provide information based on the event descriptions:\n",
    "{context}\n",
    "\n",
    "Question: {question}\n",
    "\"\"\"\n",
    "\n",
    "model = ChatOpenAI(api_key=os.getenv(\"OPENAI_API_KEY\"), model=\"gpt-3.5-turbo\")\n",
    "\n",
    "chain = (\n",
    "    {\"context\": retriever, \"question\": RunnablePassthrough()}\n",
    "    | PromptTemplate.from_template(template, context=context)\n",
    "    | model\n",
    "    | StrOutputParser()\n",
    ")\n",
    "\n",
    "\n",
    "chain.invoke(\"What  music events happening today\")"
   ]
  },
  {
   "cell_type": "code",
   "execution_count": 1,
   "metadata": {},
   "outputs": [
    {
     "data": {
      "text/plain": [
       "True"
      ]
     },
     "execution_count": 1,
     "metadata": {},
     "output_type": "execute_result"
    }
   ],
   "source": [
    "from langchain_community.chat_models import ChatOpenAI\n",
    "from dotenv import load_dotenv\n",
    "import os\n",
    "import json\n",
    "import urllib.parse\n",
    "import urllib.request\n",
    "from operator import itemgetter\n",
    "\n",
    "from langchain_community.vectorstores import FAISS\n",
    "from langchain_core.output_parsers import StrOutputParser\n",
    "from langchain.prompts import PromptTemplate\n",
    "from langchain_core.runnables import RunnablePassthrough\n",
    "from langchain_community.chat_models import ChatOpenAI\n",
    "from langchain_community.embeddings import OpenAIEmbeddings\n",
    "load_dotenv()\n"
   ]
  },
  {
   "cell_type": "code",
   "execution_count": 2,
   "metadata": {},
   "outputs": [
    {
     "name": "stderr",
     "output_type": "stream",
     "text": [
      "/Users/ellazhang/Desktop/MDST/mdst-events-suggester-llm/.venv/lib/python3.12/site-packages/langchain_core/_api/deprecation.py:117: LangChainDeprecationWarning: The class `langchain_community.chat_models.openai.ChatOpenAI` was deprecated in langchain-community 0.0.10 and will be removed in 0.2.0. An updated version of the class exists in the langchain-openai package and should be used instead. To use it run `pip install -U langchain-openai` and import as `from langchain_openai import ChatOpenAI`.\n",
      "  warn_deprecated(\n"
     ]
    }
   ],
   "source": [
    "# os.environ['OPENAI_API_KEY'] = ''\n",
    "# print(os.getenv(\"OPENAI_API_KEY\"))\n",
    "model = ChatOpenAI(api_key=os.getenv(\"OPENAI_API_KEY\"), model=\"gpt-3.5-turbo\")"
   ]
  },
  {
   "cell_type": "markdown",
   "metadata": {},
   "source": [
    "## Functions"
   ]
  },
  {
   "cell_type": "markdown",
   "metadata": {},
   "source": [
    "# functions we might need:\n",
    "# -function for getting events, filtered on date and type of event\n",
    "### -RAG/question answer type thing from the top of langchain-rag.ipynb\n",
    "#### - determining which events the user is most interest in via vector embedding search\n",
    "# - function for getting date \n",
    "# - function for getting/asking for type of event? \n"
   ]
  },
  {
   "cell_type": "code",
   "execution_count": 4,
   "metadata": {},
   "outputs": [],
   "source": [
    "from langchain.tools import tool\n",
    "import dateparser\n",
    "from daterangeparser import parse\n",
    "\n",
    "@tool\n",
    "def get_date(input_expr: str) -> str:\n",
    "    \"\"\"Function that, given date information in weekday or date formats about when a user is interested in going to an event, returns a date in year-month-day format. Do not include 'this' or 'next' in input string. If the input is too vague, the function returns -1. This function should be called multiple times in order to get start and end dates of the time range the user is interested in.\"\"\"\n",
    "    if input_expr.split(\" \")[0] == \"this\":\n",
    "        input_expr = input_expr[5:] \n",
    "    # if input_expr.split(\" \")[0] == \"next\":\n",
    "    #     input_expr = input_expr[5:] \n",
    "   \n",
    "    date = dateparser.parse(input_expr, settings={'PREFER_DATES_FROM': 'future'})\n",
    "    if (date is None):\n",
    "        return -1\n",
    "    return str(date.date())\n",
    "\n"
   ]
  },
  {
   "cell_type": "code",
   "execution_count": 31,
   "metadata": {},
   "outputs": [],
   "source": [
    "tools = [get_date]\n",
    "system_message = f\"\"\"\n",
    "    You are a chatbot helper that helps users find events happening around Ann Arbor that they are interested in going to.\n",
    "\n",
    "    You must ask them for the dates they're interested in going to and the kinds of events they are interested in. \n",
    "    You must then suggest events happening in the given date range that they would be interested in. \n",
    "\n",
    "    You have several tools at your disposal, which you will have to take advantage of to figure out when the user is interested in going to an event and what kinds of events they like.\n",
    "    - You can leverage some functions for:\n",
    "        - Figuring out the specific date range the user is interested in given inputs in day-of-week or date formats. If the function returns -1, ask the user to provide more specific date information. This function should be called multiple times in order to get both start and end dates of the time range the user is interested in.\n",
    "        - Getting information about events the user might be interested in that are happening during the dates they are interested in.\n",
    "    - You can leverage some external resources for:\n",
    "        - You can ask the user for more information, such as what exact dates they're interested in or what kinds of events they are interested in.\n",
    "    \"\"\"\n",
    "\n",
    "from langchain.memory import ChatMessageHistory\n",
    "\n",
    "history = []\n"
   ]
  },
  {
   "cell_type": "code",
   "execution_count": 257,
   "metadata": {},
   "outputs": [
    {
     "name": "stdout",
     "output_type": "stream",
     "text": [
      "\n",
      "\n",
      "\u001b[1m> Entering new AgentExecutor chain...\u001b[0m\n",
      "\u001b[32;1m\u001b[1;3m```json\n",
      "{\n",
      "    \"action\": \"get_date\",\n",
      "    \"action_input\": \"the day after tomorrow\"\n",
      "}\n",
      "```\u001b[0mthe day after tomorrow\n",
      "\n",
      "Observation: \u001b[36;1m\u001b[1;3m2024-03-26\u001b[0m\n",
      "Thought:\u001b[32;1m\u001b[1;3m```json\n",
      "{\n",
      "    \"action\": \"Final Answer\",\n",
      "    \"action_input\": \"2024-03-26\"\n",
      "}\n",
      "```\u001b[0m\n",
      "\n",
      "\u001b[1m> Finished chain.\u001b[0m\n"
     ]
    },
    {
     "data": {
      "text/plain": [
       "{'input': 'what are some concerts happening the day after tomorrow.',\n",
       " 'chat_history': [],\n",
       " 'output': '2024-03-26'}"
      ]
     },
     "execution_count": 257,
     "metadata": {},
     "output_type": "execute_result"
    }
   ],
   "source": [
    "from langchain.agents import initialize_agent\n",
    "\n",
    "zero_shot_agent = initialize_agent(\n",
    "    agent=\"chat-conversational-react-description\",\n",
    "    tools=tools,\n",
    "    llm=model,\n",
    "    agent_kwargs={\n",
    "        \"system_message\": system_message,\n",
    "    },\n",
    "    verbose=True,\n",
    "    max_iterations=3\n",
    ")\n",
    "\n",
    "zero_shot_agent.invoke({\"input\": \"what are some concerts happening the\", \"chat_history\": history})\n",
    "\n"
   ]
  },
  {
   "cell_type": "code",
   "execution_count": 29,
   "metadata": {},
   "outputs": [
    {
     "name": "stdout",
     "output_type": "stream",
     "text": [
      "Today, there are several music events happening at the University of Michigan. Here are some details:\n",
      "\n",
      "1. Jazz Piano Studio Recital:\n",
      "   - Location: Earl V. Moore Building Britton Recital Hall\n",
      "   - Date: March 24, 2024\n",
      "   - Time: 7:00 PM to 8:30 PM\n",
      "   - Description: Duo and solo piano performances by students from the studio of Professor Andy Milne, featuring a jazz piano journey from Chopin to Blondie.\n",
      "   - Cost: Free\n",
      "\n",
      "2. Davide Jeon, jazz piano:\n",
      "   - Location: Earl V. Moore Building McIntosh Theatre\n",
      "   - Date: March 24, 2024\n",
      "   - Time: 12:00 PM to 1:00 PM\n",
      "   - Description: Undergraduate student Davide Jeon's piano recital.\n",
      "   - Cost: Free\n",
      "\n",
      "3. Paul Nastelin, French horn:\n",
      "   - Location: Earl V. Moore Building Britton Recital Hall\n",
      "   - Date: March 24, 2024\n",
      "   - Time: 11:00 AM to 12:00 PM\n",
      "   - Description: Undergraduate student Paul Nastelin's French horn recital.\n",
      "   - Cost: Free\n",
      "\n",
      "4. Jolie Rebelo, violin:\n",
      "   - Location: Walgreen Drama Center Stamps Auditorium\n",
      "   - Date: March 24, 2024\n",
      "   - Time: 3:00 PM to 4:00 PM\n",
      "   - Description: Graduate student Jolie Rebelo's violin recital.\n",
      "   - Cost: Free\n",
      "\n",
      "These events offer a variety of music performances that you might be interested in attending today.\n"
     ]
    }
   ],
   "source": [
    "start_date = '2024-03-24'\n",
    "end_date = '2024-03-24'\n",
    "\n",
    "url = f'http://events.umich.edu/list/json?filter=all&range={start_date}to{end_date}&v=2'\n",
    "\n",
    "with urllib.request.urlopen(url) as response:\n",
    "    data = response.read()\n",
    "\n",
    "events_json = json.loads(data)\n",
    "\n",
    "event_descriptions = []\n",
    "for event in events_json:\n",
    "    if event[\"combined_title\"] == None:\n",
    "        event[\"combined_title\"] = \"An event\"\n",
    "    if event[\"location_name\"] == None:\n",
    "        event[\"location_name\"] = \" an unknown location\"\n",
    "    \n",
    "    if event[\"room\"] != \"\":\n",
    "        new_event = (event[\"combined_title\"] + \" is happening in \" +  event[\"location_name\"] + \" \" + event[\"room\"])\n",
    "    else: \n",
    "        new_event = (event[\"combined_title\"] + \" is happening in \" +  event[\"location_name\"])\n",
    "\n",
    "    if event[\"date_start\"] == event[\"date_end\"]:\n",
    "        new_event += \". The date of the event is \" + event[\"date_start\"] + \".\"\n",
    "    else:\n",
    "        new_event += \". The dates of the event are from \" + event[\"date_start\"] + \" to \" + event[\"date_end\"] + \".\"\n",
    "    \n",
    "    if event[\"time_start\"] == \"00:00:00\" and event[\"time_end\"] == \"23:59:59\":\n",
    "        new_event += \"The event is happening all day.\"\n",
    "    else:\n",
    "        new_event += \". The time the event is happening is from \" + event[\"time_start\"] + \" to \" + event[\"time_end\"] + \".\"\n",
    "    \n",
    "\n",
    "    new_event += \". A description of the event is: \" + event[\"description\"]\n",
    "\n",
    "    if event[\"cost\"] != \"\":\n",
    "        new_event += \". Cost information is: \" + event[\"cost\"]\n",
    "\n",
    "    event_descriptions.append(new_event)\n",
    "\n",
    "vectorstore = FAISS.from_texts(event_descriptions, embedding=OpenAIEmbeddings(api_key=os.getenv(\"OPENAI_API_KEY\")))\n",
    "\n",
    "retriever = vectorstore.as_retriever(k=5)\n",
    "\n",
    "template = \"\"\"Provide information about events the user might be interested in, including location, date, and time information about those events:\n",
    "{context}\n",
    "\n",
    "Question: {question}\n",
    "\"\"\"\n",
    "\n",
    "model = ChatOpenAI(api_key=os.getenv(\"OPENAI_API_KEY\"), model=\"gpt-3.5-turbo\")\n",
    "\n",
    "chain = (\n",
    "    {\"context\": retriever, \"question\": RunnablePassthrough()}\n",
    "    | PromptTemplate.from_template(template)\n",
    "    | model\n",
    "    | StrOutputParser()\n",
    ")\n",
    "\n",
    "\n",
    "print(chain.invoke(\"What music events are happening today ?\"))"
   ]
  },
  {
   "cell_type": "code",
   "execution_count": null,
   "metadata": {},
   "outputs": [],
   "source": []
  }
 ],
 "metadata": {
  "kernelspec": {
   "display_name": ".venv",
   "language": "python",
   "name": "python3"
  },
  "language_info": {
   "codemirror_mode": {
    "name": "ipython",
    "version": 3
   },
   "file_extension": ".py",
   "mimetype": "text/x-python",
   "name": "python",
   "nbconvert_exporter": "python",
   "pygments_lexer": "ipython3",
   "version": "3.12.2"
  }
 },
 "nbformat": 4,
 "nbformat_minor": 2
}
